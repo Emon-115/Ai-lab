{
  "nbformat": 4,
  "nbformat_minor": 0,
  "metadata": {
    "colab": {
      "provenance": [],
      "authorship_tag": "ABX9TyOx+zRiruyFN3Rs20xT/cYh",
      "include_colab_link": true
    },
    "kernelspec": {
      "name": "python3",
      "display_name": "Python 3"
    },
    "language_info": {
      "name": "python"
    }
  },
  "cells": [
    {
      "cell_type": "markdown",
      "metadata": {
        "id": "view-in-github",
        "colab_type": "text"
      },
      "source": [
        "<a href=\"https://colab.research.google.com/github/Emon-115/Ai-lab/blob/main/lab_02.ipynb\" target=\"_parent\"><img src=\"https://colab.research.google.com/assets/colab-badge.svg\" alt=\"Open In Colab\"/></a>"
      ]
    },
    {
      "cell_type": "markdown",
      "source": [
        "List\n"
      ],
      "metadata": {
        "id": "XJWG06S5oZF4"
      }
    },
    {
      "cell_type": "code",
      "execution_count": 2,
      "metadata": {
        "colab": {
          "base_uri": "https://localhost:8080/"
        },
        "id": "xAIx0OQqoBoQ",
        "outputId": "7f22d9a4-7fe9-425e-b183-8ea1813b9c12"
      },
      "outputs": [
        {
          "output_type": "execute_result",
          "data": {
            "text/plain": [
              "[5, 8, 2, -6, 9, 9, 0]"
            ]
          },
          "metadata": {},
          "execution_count": 2
        }
      ],
      "source": [
        "list1=[5,8,2,-6,9,0]\n",
        "list1.insert(5,9)\n",
        "list1"
      ]
    },
    {
      "cell_type": "code",
      "source": [
        "list1=[5,8,2,-6,9,0]\n",
        "list1.insert(2,9)\n",
        "list1"
      ],
      "metadata": {
        "colab": {
          "base_uri": "https://localhost:8080/"
        },
        "id": "9RTA2-7upRr8",
        "outputId": "67fe18b7-3079-4d28-9bc3-0a19f0e4ffc5"
      },
      "execution_count": 3,
      "outputs": [
        {
          "output_type": "execute_result",
          "data": {
            "text/plain": [
              "[5, 8, 9, 2, -6, 9, 0]"
            ]
          },
          "metadata": {},
          "execution_count": 3
        }
      ]
    },
    {
      "cell_type": "code",
      "source": [
        "list1=[5,8,2,-6,9,0]\n",
        "list1.insert(0,9)\n",
        "list1"
      ],
      "metadata": {
        "colab": {
          "base_uri": "https://localhost:8080/"
        },
        "id": "hAZoS5u8pT8B",
        "outputId": "49794e68-6995-4bd6-8d41-848c503c21bf"
      },
      "execution_count": 5,
      "outputs": [
        {
          "output_type": "execute_result",
          "data": {
            "text/plain": [
              "[9, 5, 8, 2, -6, 9, 0]"
            ]
          },
          "metadata": {},
          "execution_count": 5
        }
      ]
    },
    {
      "cell_type": "markdown",
      "source": [
        "# take a sublist of index 0 to 3\n"
      ],
      "metadata": {
        "id": "SSQUWzTwrEZ4"
      }
    },
    {
      "cell_type": "code",
      "source": [
        "list1=[5,8,2,-6,9,0]\n",
        "list2=list1[0:4]\n",
        "list2"
      ],
      "metadata": {
        "colab": {
          "base_uri": "https://localhost:8080/"
        },
        "id": "XSQT7JKJqvqI",
        "outputId": "31d7098f-fd1e-42cd-d3f6-0712b277c501"
      },
      "execution_count": 6,
      "outputs": [
        {
          "output_type": "execute_result",
          "data": {
            "text/plain": [
              "[5, 8, 2, -6]"
            ]
          },
          "metadata": {},
          "execution_count": 6
        }
      ]
    },
    {
      "cell_type": "code",
      "source": [
        "list1=[5,8,2,-6,9,0]\n",
        "list2=list1[3:6]\n",
        "list2"
      ],
      "metadata": {
        "colab": {
          "base_uri": "https://localhost:8080/"
        },
        "id": "MM15taStrXkP",
        "outputId": "5c12d2ca-3726-4090-c679-7ca7729abbe6"
      },
      "execution_count": 7,
      "outputs": [
        {
          "output_type": "execute_result",
          "data": {
            "text/plain": [
              "[-6, 9, 0]"
            ]
          },
          "metadata": {},
          "execution_count": 7
        }
      ]
    },
    {
      "cell_type": "code",
      "source": [
        "list1=[5,8,2,-6,9,0]\n",
        "list1[:4]"
      ],
      "metadata": {
        "colab": {
          "base_uri": "https://localhost:8080/"
        },
        "id": "T2QJPCzwrd3X",
        "outputId": "530c0d75-4a2d-40d1-f7fd-b430213e0115"
      },
      "execution_count": 11,
      "outputs": [
        {
          "output_type": "execute_result",
          "data": {
            "text/plain": [
              "[5, 8, 2, -6]"
            ]
          },
          "metadata": {},
          "execution_count": 11
        }
      ]
    },
    {
      "cell_type": "code",
      "source": [
        "list1=[5,8,2,-6,9,0]\n",
        "list1[4:]"
      ],
      "metadata": {
        "colab": {
          "base_uri": "https://localhost:8080/"
        },
        "id": "L-0q54uDsHtR",
        "outputId": "89d6f88f-b14e-46e4-c633-b07e6d4e66fd"
      },
      "execution_count": 12,
      "outputs": [
        {
          "output_type": "execute_result",
          "data": {
            "text/plain": [
              "[9, 0]"
            ]
          },
          "metadata": {},
          "execution_count": 12
        }
      ]
    },
    {
      "cell_type": "markdown",
      "source": [
        "Looping over lists"
      ],
      "metadata": {
        "id": "5udjcJyWsNMR"
      }
    },
    {
      "cell_type": "code",
      "source": [
        "list2 = [5, 9.2, 'hello', [1,2,3], -9]\n",
        "\n",
        "# for i in range(len(list2)):\n",
        "#   print(list2[i])\n",
        "for v in list2:\n",
        "    print(v,end=\" \")"
      ],
      "metadata": {
        "colab": {
          "base_uri": "https://localhost:8080/"
        },
        "id": "m61zbNg9sRAX",
        "outputId": "d08e73b2-6651-4b22-c08c-49f1e9f6d865"
      },
      "execution_count": 14,
      "outputs": [
        {
          "output_type": "stream",
          "name": "stdout",
          "text": [
            "5 9.2 hello [1, 2, 3] -9 "
          ]
        }
      ]
    },
    {
      "cell_type": "code",
      "source": [
        "list2 = [5, 9.2, 'hello', [1,2,3], -9]\n",
        "\n",
        "# for i in range(len(list2)):\n",
        "#   print(list2[i])\n",
        "for v in list2:\n",
        "    print(v)"
      ],
      "metadata": {
        "id": "eyNTt7c0ss1h"
      },
      "execution_count": null,
      "outputs": []
    },
    {
      "cell_type": "code",
      "source": [
        "list1 = ['apple', 'orange', 'mango', 'lemon']\n",
        "\n",
        "inp=input()\n",
        "if inp.lower() in list1:\n",
        "    print(\"Yes\")\n",
        "else:\n",
        "    print(\"no\")"
      ],
      "metadata": {
        "colab": {
          "base_uri": "https://localhost:8080/"
        },
        "id": "0tOszgKos3hf",
        "outputId": "cd940dc9-405d-4752-ee07-efa29b2c65da"
      },
      "execution_count": 16,
      "outputs": [
        {
          "output_type": "stream",
          "name": "stdout",
          "text": [
            "tango\n",
            "no\n"
          ]
        }
      ]
    },
    {
      "cell_type": "markdown",
      "source": [
        "Tuple"
      ],
      "metadata": {
        "id": "kAgvWS95t1dp"
      }
    },
    {
      "cell_type": "code",
      "source": [
        "list1=[1,10,100]\n",
        "tuple_1=(1,10,100)\n",
        "x,y,z=tuple_1\n",
        "print(x,y,z)\n",
        "print(x)\n",
        "print(y)\n",
        "print(z)\n",
        "print(tuple_1[0])   #for 0 number tuple print\n",
        "a,_,z1 = tuple_1\n",
        "print(a,z1)\n",
        "list(tuple_1)   #Tuple to List conversion \n"
      ],
      "metadata": {
        "colab": {
          "base_uri": "https://localhost:8080/"
        },
        "id": "zp5Kqoqzt5fj",
        "outputId": "692be025-7d21-45f1-8c91-a03df86ea3f9"
      },
      "execution_count": 23,
      "outputs": [
        {
          "output_type": "stream",
          "name": "stdout",
          "text": [
            "1 10 100\n",
            "1\n",
            "10\n",
            "100\n",
            "1\n",
            "1 100\n"
          ]
        },
        {
          "output_type": "execute_result",
          "data": {
            "text/plain": [
              "[1, 10, 100]"
            ]
          },
          "metadata": {},
          "execution_count": 23
        }
      ]
    },
    {
      "cell_type": "markdown",
      "source": [
        "Dictionary"
      ],
      "metadata": {
        "id": "0Y_3wQ2rvPx6"
      }
    },
    {
      "cell_type": "code",
      "source": [
        "d = {\n",
        "    'adam': 3.9,\n",
        "     'joe': 3.85,\n",
        "     'smith': [4,'hello'],\n",
        "}\n",
        "\n",
        "print(d['joe'])\n",
        "# update existing value\n",
        "d['joe']=4.00\n",
        "print(d['joe'])\n",
        "d['adam']\n",
        "# insert new key, value pair\n",
        "d['hello']='world'\n",
        "d\n",
        "#d['smith']"
      ],
      "metadata": {
        "colab": {
          "base_uri": "https://localhost:8080/"
        },
        "id": "ZWDGtn9nvSML",
        "outputId": "2f884b52-8f87-4337-db19-e5e22c577bd0"
      },
      "execution_count": 32,
      "outputs": [
        {
          "output_type": "stream",
          "name": "stdout",
          "text": [
            "3.85\n",
            "4.0\n"
          ]
        },
        {
          "output_type": "execute_result",
          "data": {
            "text/plain": [
              "{'adam': 3.9, 'joe': 4.0, 'smith': [4, 'hello'], 'hello': 'world'}"
            ]
          },
          "metadata": {},
          "execution_count": 32
        }
      ]
    },
    {
      "cell_type": "code",
      "source": [
        "print(d.keys())\n",
        "print(d.values())\n",
        "for k in d.keys():\n",
        "  print(f'{k} -> {d[k]}')\n",
        "print(d.items())"
      ],
      "metadata": {
        "colab": {
          "base_uri": "https://localhost:8080/"
        },
        "id": "H-sQ9T_Fwft1",
        "outputId": "75446033-4796-4270-c8fc-0e52e31e7378"
      },
      "execution_count": 37,
      "outputs": [
        {
          "output_type": "stream",
          "name": "stdout",
          "text": [
            "dict_keys(['adam', 'joe', 'smith', 'hello'])\n",
            "dict_values([3.9, 4.0, [4, 'hello'], 'world'])\n",
            "adam -> 3.9\n",
            "joe -> 4.0\n",
            "smith -> [4, 'hello']\n",
            "hello -> world\n",
            "dict_items([('adam', 3.9), ('joe', 4.0), ('smith', [4, 'hello']), ('hello', 'world')])\n"
          ]
        }
      ]
    },
    {
      "cell_type": "code",
      "source": [
        "if d.get('adam') is None:\n",
        "  print(\"Not found\")\n",
        "d.pop('adam')\n",
        "if d.get('adam') is None:\n",
        "  print(\"Not found\")\n"
      ],
      "metadata": {
        "id": "OI4R5O-DyETv"
      },
      "execution_count": null,
      "outputs": []
    },
    {
      "cell_type": "markdown",
      "source": [
        "Function"
      ],
      "metadata": {
        "id": "Rnel6jYqzA0h"
      }
    },
    {
      "cell_type": "code",
      "source": [
        "# int squareFnc(int x){\n",
        "#     return x*x;\n",
        "# }\n",
        "\n",
        "def suqareFunc(x):\n",
        "  return x*x\n",
        "suqareFunc(10)\n"
      ],
      "metadata": {
        "colab": {
          "base_uri": "https://localhost:8080/"
        },
        "id": "_YtgvvJIzDZL",
        "outputId": "67ff3b7f-2e8f-4e8e-a60d-590ae0e59738"
      },
      "execution_count": 44,
      "outputs": [
        {
          "output_type": "execute_result",
          "data": {
            "text/plain": [
              "100"
            ]
          },
          "metadata": {},
          "execution_count": 44
        }
      ]
    },
    {
      "cell_type": "code",
      "source": [
        "def squareList(l):\n",
        "  # l_new = []\n",
        "  # for x in l:\n",
        "  #   l_new.append(x*x)\n",
        "  # return l_new\n",
        "  return [x*x for x in l]\n",
        "\n",
        "squareList([1,2,3,4])"
      ],
      "metadata": {
        "id": "nP1G0NP_zsl_"
      },
      "execution_count": null,
      "outputs": []
    },
    {
      "cell_type": "code",
      "source": [
        "def print_info(name, id, cgpa=3.75, age=15):\n",
        "  print(f'Name: {name}\\nID: {id}\\nCGPA: {cgpa}')\n",
        "\n",
        "print_info('Mr.X', 123)\n",
        "\n",
        "print_info(id=123, name='Mr.A')"
      ],
      "metadata": {
        "colab": {
          "base_uri": "https://localhost:8080/"
        },
        "id": "jeuLUwaC0yLP",
        "outputId": "aa25d1ad-76e2-44a3-d70f-5f99eec94bbc"
      },
      "execution_count": 45,
      "outputs": [
        {
          "output_type": "stream",
          "name": "stdout",
          "text": [
            "Name: Mr.X\n",
            "ID: 123\n",
            "CGPA: 3.75\n",
            "Name: Mr.A\n",
            "ID: 123\n",
            "CGPA: 3.75\n"
          ]
        }
      ]
    },
    {
      "cell_type": "markdown",
      "source": [],
      "metadata": {
        "id": "CGtUt1lr0_3f"
      }
    },
    {
      "cell_type": "markdown",
      "source": [
        "List Comprehension"
      ],
      "metadata": {
        "id": "VwUipDgk9gtv"
      }
    },
    {
      "cell_type": "code",
      "source": [
        "l1=[1,2,3,4,5,6,7]\n",
        "l2=[x**x for x in l1]\n",
        "l2"
      ],
      "metadata": {
        "colab": {
          "base_uri": "https://localhost:8080/"
        },
        "id": "y8R92slY1BJv",
        "outputId": "8c9e0f39-e604-4884-ed87-413bfc87f072"
      },
      "execution_count": 46,
      "outputs": [
        {
          "output_type": "execute_result",
          "data": {
            "text/plain": [
              "[1, 4, 27, 256, 3125, 46656, 823543]"
            ]
          },
          "metadata": {},
          "execution_count": 46
        }
      ]
    },
    {
      "cell_type": "markdown",
      "source": [
        "NumPy"
      ],
      "metadata": {
        "id": "YujtNahB1pOX"
      }
    },
    {
      "cell_type": "code",
      "source": [
        "import numpy as np\n",
        "\n",
        "#a=np.zeros((5,2))\n",
        "#a.shape\n",
        "\n",
        "b = np.ones((4,3))\n",
        "b\n",
        "c = np.ones((4,3))\n",
        "c\n",
        "b+c"
      ],
      "metadata": {
        "colab": {
          "base_uri": "https://localhost:8080/"
        },
        "id": "_OwxnyU31rAB",
        "outputId": "ab92d9eb-a92e-45f6-9e2f-946c60c54677"
      },
      "execution_count": 51,
      "outputs": [
        {
          "output_type": "execute_result",
          "data": {
            "text/plain": [
              "array([[2., 2., 2.],\n",
              "       [2., 2., 2.],\n",
              "       [2., 2., 2.],\n",
              "       [2., 2., 2.]])"
            ]
          },
          "metadata": {},
          "execution_count": 51
        }
      ]
    },
    {
      "cell_type": "code",
      "source": [
        "a = np.array(\n",
        "    [[1,5,3],\n",
        "     [4,2,6]]\n",
        ")\n",
        "b = np.array(\n",
        "    [[7,8,9],\n",
        "     [-5,0.5,2]]\n",
        ")\n",
        "\n",
        "a.max()\n",
        "b.min()\n",
        "# Column Wise\n",
        "a.max(axis=0)\n",
        "# Row Wise\n",
        "a.max(axis=1)\n",
        "\n",
        "# Column Wise Index where min exists\n",
        "a.argmin(axis=0)\n",
        "# Row Wise Index where min exists\n",
        "a.argmin(axis=1)\n"
      ],
      "metadata": {
        "colab": {
          "base_uri": "https://localhost:8080/"
        },
        "id": "hIduJ0Iw2aPy",
        "outputId": "3a10106b-177c-4f8c-bb9d-5af75094ec62"
      },
      "execution_count": 59,
      "outputs": [
        {
          "output_type": "execute_result",
          "data": {
            "text/plain": [
              "array([0, 1])"
            ]
          },
          "metadata": {},
          "execution_count": 59
        }
      ]
    },
    {
      "cell_type": "code",
      "source": [
        "a = np.array(\n",
        "    [[1,2],\n",
        "     [3,4]]\n",
        ")\n",
        "b = np.array(\n",
        "    [[1,4, 6],\n",
        "     [3,4, 0]]\n",
        ")\n",
        "a.shape, b.shape\n",
        "np.matmul(a, b)"
      ],
      "metadata": {
        "colab": {
          "base_uri": "https://localhost:8080/"
        },
        "id": "D5OZ3wsH29hv",
        "outputId": "5b6e1eb1-b4f4-46a6-d0ad-6058fab2f75f"
      },
      "execution_count": 61,
      "outputs": [
        {
          "output_type": "execute_result",
          "data": {
            "text/plain": [
              "array([[ 7, 12,  6],\n",
              "       [15, 28, 18]])"
            ]
          },
          "metadata": {},
          "execution_count": 61
        }
      ]
    },
    {
      "cell_type": "markdown",
      "source": [
        "Broadcasting"
      ],
      "metadata": {
        "id": "kAT7OvUw3JpA"
      }
    },
    {
      "cell_type": "code",
      "source": [
        "a = np.array(\n",
        "    [[1,2],\n",
        "     [3,4]]\n",
        ")\n",
        "b= np.array(\n",
        "    [2,3]\n",
        ")\n",
        "\n",
        "a+b"
      ],
      "metadata": {
        "colab": {
          "base_uri": "https://localhost:8080/"
        },
        "id": "0RWcz5i93KfR",
        "outputId": "f02f8ae3-ba8a-4459-da90-7747ccd3fd46"
      },
      "execution_count": 62,
      "outputs": [
        {
          "output_type": "execute_result",
          "data": {
            "text/plain": [
              "array([[3, 5],\n",
              "       [5, 7]])"
            ]
          },
          "metadata": {},
          "execution_count": 62
        }
      ]
    },
    {
      "cell_type": "markdown",
      "source": [
        "Filtering"
      ],
      "metadata": {
        "id": "es_ppQPM3Pup"
      }
    },
    {
      "cell_type": "code",
      "source": [
        "a = np.array([3, -5, 2, 9, 0, 7])\n",
        "\n",
        "# Filtering by Boolean Indexing\n",
        "a[[True, False, False, True, True, True]]"
      ],
      "metadata": {
        "colab": {
          "base_uri": "https://localhost:8080/"
        },
        "id": "0_9YKdqr3Q__",
        "outputId": "1784e7d5-459d-4b7b-d91c-dcb453925c5d"
      },
      "execution_count": 63,
      "outputs": [
        {
          "output_type": "execute_result",
          "data": {
            "text/plain": [
              "array([3, 9, 0, 7])"
            ]
          },
          "metadata": {},
          "execution_count": 63
        }
      ]
    },
    {
      "cell_type": "code",
      "source": [
        "print(a>2)\n",
        "\n",
        "print(a[a>2])"
      ],
      "metadata": {
        "colab": {
          "base_uri": "https://localhost:8080/"
        },
        "id": "xMh880RQ3skp",
        "outputId": "94efce11-7ba4-43af-84fe-c59a409a042d"
      },
      "execution_count": 64,
      "outputs": [
        {
          "output_type": "stream",
          "name": "stdout",
          "text": [
            "[ True False False  True False  True]\n",
            "[3 9 7]\n"
          ]
        }
      ]
    },
    {
      "cell_type": "markdown",
      "source": [
        "Plotting"
      ],
      "metadata": {
        "id": "29E_GRAr3zyp"
      }
    },
    {
      "cell_type": "code",
      "source": [
        "x = np.array([0.5, 1, 1.5, 2, 2.5, 3.5, 3.75, 4.25])\n",
        "y= x**10\n",
        "\n",
        "from matplotlib import pyplot as plt\n",
        "\n",
        "plt.plot(x, y)\n",
        "\n",
        "plt.show()"
      ],
      "metadata": {
        "colab": {
          "base_uri": "https://localhost:8080/",
          "height": 276
        },
        "id": "QZAitBAw31vw",
        "outputId": "6c6bcbb7-faf6-47af-c612-e60a7745b21d"
      },
      "execution_count": 70,
      "outputs": [
        {
          "output_type": "display_data",
          "data": {
            "text/plain": [
              "<Figure size 432x288 with 1 Axes>"
            ],
            "image/png": "[encoded data removed]"
          },
          "metadata": {
            "needs_background": "light"
          }
        }
      ]
    }
  ]
}