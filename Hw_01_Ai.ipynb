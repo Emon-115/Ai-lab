{
  "nbformat": 4,
  "nbformat_minor": 0,
  "metadata": {
    "colab": {
      "provenance": [],
      "authorship_tag": "ABX9TyMq4l0oTQFY9B7mjvaYEjtO",
      "include_colab_link": true
    },
    "kernelspec": {
      "name": "python3",
      "display_name": "Python 3"
    },
    "language_info": {
      "name": "python"
    }
  },
  "cells": [
    {
      "cell_type": "markdown",
      "metadata": {
        "id": "view-in-github",
        "colab_type": "text"
      },
      "source": [
        "<a href=\"https://colab.research.google.com/github/Emon-115/Ai-lab/blob/main/Hw_01_Ai.ipynb\" target=\"_parent\"><img src=\"https://colab.research.google.com/assets/colab-badge.svg\" alt=\"Open In Colab\"/></a>"
      ]
    },
    {
      "cell_type": "markdown",
      "source": [
        "Console Output\n"
      ],
      "metadata": {
        "id": "_yA8Df71g85c"
      }
    },
    {
      "cell_type": "code",
      "execution_count": 4,
      "metadata": {
        "colab": {
          "base_uri": "https://localhost:8080/"
        },
        "id": "GDw6Rsmlfn1w",
        "outputId": "da7c5b17-c631-4cc5-cfaa-9bcc417e253c"
      },
      "outputs": [
        {
          "output_type": "stream",
          "name": "stdout",
          "text": [
            "hello world\n",
            "How are you 181115 what is Your CG: 2.9 ?\n"
          ]
        }
      ],
      "source": [
        "print(\"Hello World\")\n",
        "print(\"How are you\",181115,\"what is Your CG:\",2.97,\"?\")"
      ]
    },
    {
      "cell_type": "markdown",
      "source": [],
      "metadata": {
        "id": "u5JD12mtg3Xx"
      }
    },
    {
      "cell_type": "markdown",
      "source": [
        "Variable"
      ],
      "metadata": {
        "id": "O5GNY_6whlxc"
      }
    },
    {
      "cell_type": "code",
      "source": [
        "x=5\n",
        "y=5.5\n",
        "z=\"emon\"\n",
        "print(x,y,z)\n",
        "print(x+y,z)"
      ],
      "metadata": {
        "colab": {
          "base_uri": "https://localhost:8080/"
        },
        "id": "m4j35-QfhXDn",
        "outputId": "6b2c8972-7609-4051-b65e-623bb4aa994a"
      },
      "execution_count": 9,
      "outputs": [
        {
          "output_type": "stream",
          "name": "stdout",
          "text": [
            "5 5.5 emon\n",
            "10.5 emon\n"
          ]
        }
      ]
    },
    {
      "cell_type": "markdown",
      "source": [
        "Console input without type"
      ],
      "metadata": {
        "id": "DiGUkIHRiVEu"
      }
    },
    {
      "cell_type": "code",
      "source": [
        "x=input()\n",
        "y=input()\n",
        "print(x+y)"
      ],
      "metadata": {
        "colab": {
          "base_uri": "https://localhost:8080/"
        },
        "id": "n4JXj-1gidjz",
        "outputId": "f13bec30-5276-4e86-957e-0bd397ca36b6"
      },
      "execution_count": 14,
      "outputs": [
        {
          "output_type": "stream",
          "name": "stdout",
          "text": [
            "1.2\n",
            "2.3\n",
            "1.22.3\n"
          ]
        }
      ]
    },
    {
      "cell_type": "markdown",
      "source": [
        "Console input with type"
      ],
      "metadata": {
        "id": "U6sfeegPjLsP"
      }
    },
    {
      "cell_type": "code",
      "source": [
        "x=int(input())\n",
        "y=int(input())\n",
        "a=float(input())\n",
        "z=input()\n",
        "print(z,(x+y)-a)\n"
      ],
      "metadata": {
        "colab": {
          "base_uri": "https://localhost:8080/"
        },
        "id": "JeRYZ2zjjOLJ",
        "outputId": "3a8449bc-e592-4d90-a5d6-93b3553f2884"
      },
      "execution_count": 21,
      "outputs": [
        {
          "output_type": "stream",
          "name": "stdout",
          "text": [
            "10\n",
            "20\n",
            "4.5\n",
            "EMON\n",
            "EMON 25.5\n"
          ]
        }
      ]
    },
    {
      "cell_type": "markdown",
      "source": [
        "String"
      ],
      "metadata": {
        "id": "UoeGyu9-kZ4C"
      }
    },
    {
      "cell_type": "code",
      "source": [
        "x=10\n",
        "y=5.2\n",
        "z='hello'\n",
        "\n",
        "t1= 'x={x} y={y} z={z}'\n",
        "print(t1)\n",
        "t2=f'x={x} y={y} z={z}'\n",
        "print (t2)"
      ],
      "metadata": {
        "colab": {
          "base_uri": "https://localhost:8080/"
        },
        "id": "vhVpp7Ajk2jH",
        "outputId": "6690cb98-6a44-4a0b-ad45-eca67e40c408"
      },
      "execution_count": 22,
      "outputs": [
        {
          "output_type": "stream",
          "name": "stdout",
          "text": [
            "x={x} y={y} z={z}\n",
            "x=10 y=5.2 z=hello\n"
          ]
        }
      ]
    },
    {
      "cell_type": "code",
      "source": [
        "x=10\n",
        "y=5.2\n",
        "z=\"hello\"\n",
        "\n",
        "t1= \"x={x} y={y} z={z}\"\n",
        "print(t1)\n",
        "t2=f\"x={x}  y={y} z={z}\"\n",
        "print (t2)"
      ],
      "metadata": {
        "colab": {
          "base_uri": "https://localhost:8080/"
        },
        "id": "CeztyF71legw",
        "outputId": "3fe1faa7-c363-48cd-9f5b-1f0b29716567"
      },
      "execution_count": 25,
      "outputs": [
        {
          "output_type": "stream",
          "name": "stdout",
          "text": [
            "x={x} y={y} z={z}\n",
            "x=10  y=5.2 z=hello\n"
          ]
        }
      ]
    },
    {
      "cell_type": "markdown",
      "source": [
        "Operators"
      ],
      "metadata": {
        "id": "EqFdP2CZl9Uf"
      }
    },
    {
      "cell_type": "code",
      "source": [
        "x=5\n",
        "x=x+1  #x=x+1 and x+=1 same\n",
        "print(x)"
      ],
      "metadata": {
        "colab": {
          "base_uri": "https://localhost:8080/"
        },
        "id": "DKcI94T6lmqi",
        "outputId": "713eb889-7fbd-4d8a-b01e-57d1866e7e4d"
      },
      "execution_count": 30,
      "outputs": [
        {
          "output_type": "stream",
          "name": "stdout",
          "text": [
            "6\n"
          ]
        }
      ]
    },
    {
      "cell_type": "code",
      "source": [
        "x=5\n",
        "x=x+1\n",
        "x+=1\n",
        "print(x)\n",
        "print(2**5)"
      ],
      "metadata": {
        "colab": {
          "base_uri": "https://localhost:8080/"
        },
        "id": "LuvC3YTym3mE",
        "outputId": "2e75eb11-e6fe-43e3-ed74-12f998d38211"
      },
      "execution_count": 34,
      "outputs": [
        {
          "output_type": "stream",
          "name": "stdout",
          "text": [
            "7\n",
            "32\n"
          ]
        }
      ]
    },
    {
      "cell_type": "markdown",
      "source": [
        "Conditioning"
      ],
      "metadata": {
        "id": "1MMA7vkcn7TJ"
      }
    },
    {
      "cell_type": "code",
      "source": [
        "x=int(input())\n",
        "if x%2==0:\n",
        "    print(\"even\")\n",
        "else:\n",
        "    print(\"odd\")\n",
        "\n",
        "if x>0:\n",
        "    print(\"+ve\")\n",
        "elif x<0:\n",
        "    print(\"-ve\")\n",
        "else:\n",
        "    print(\"zero\")\n",
        "\n",
        "\n",
        "if 3<=x and x<=5:  # we can write like that   if (3<=x<=5):\n",
        "    print(\"yes\")\n",
        "else:\n",
        "      print(\"NO\")"
      ],
      "metadata": {
        "colab": {
          "base_uri": "https://localhost:8080/"
        },
        "id": "HSrxzlRkn9eR",
        "outputId": "39d2d1af-afc4-4343-a09b-e1d865dcaf2c"
      },
      "execution_count": 48,
      "outputs": [
        {
          "output_type": "stream",
          "name": "stdout",
          "text": [
            "4\n",
            "even\n",
            "+ve\n",
            "yes\n"
          ]
        }
      ]
    },
    {
      "cell_type": "markdown",
      "source": [
        "Looping"
      ],
      "metadata": {
        "id": "lIEqBd_Gt0_0"
      }
    },
    {
      "cell_type": "code",
      "source": [
        "for i in range (10):\n",
        "  print(i)\n",
        "\n",
        "\n",
        "sum=0\n",
        "for i in range(5):\n",
        "  sum=sum+int(input())\n",
        "print (\"total:\",sum)"
      ],
      "metadata": {
        "colab": {
          "base_uri": "https://localhost:8080/"
        },
        "id": "5BYLbeBMt2T2",
        "outputId": "3de27a66-df88-4921-d360-27da12adfcd4"
      },
      "execution_count": 62,
      "outputs": [
        {
          "output_type": "stream",
          "name": "stdout",
          "text": [
            "0\n",
            "1\n",
            "2\n",
            "3\n",
            "4\n",
            "5\n",
            "6\n",
            "7\n",
            "8\n",
            "9\n",
            "1\n",
            "2\n",
            "3\n",
            "4\n",
            "5\n",
            "total: 15\n"
          ]
        }
      ]
    },
    {
      "cell_type": "markdown",
      "source": [
        "for(int i=10; i < 15; i++)\n"
      ],
      "metadata": {
        "id": "JaPSLXIyv2DR"
      }
    },
    {
      "cell_type": "code",
      "source": [
        "for i in range (10,15,1):\n",
        "    print(i)"
      ],
      "metadata": {
        "colab": {
          "base_uri": "https://localhost:8080/"
        },
        "id": "5NIcAfJsvp3o",
        "outputId": "1852f7c5-1a74-4aa5-c12d-d4e7b2b7ab75"
      },
      "execution_count": 69,
      "outputs": [
        {
          "output_type": "stream",
          "name": "stdout",
          "text": [
            "10\n",
            "11\n",
            "12\n",
            "13\n",
            "14\n"
          ]
        }
      ]
    },
    {
      "cell_type": "markdown",
      "source": [
        "# for(int i=10; i > 5; i--)"
      ],
      "metadata": {
        "id": "u3FoOXZgwjPp"
      }
    },
    {
      "cell_type": "code",
      "source": [
        "for i in range (10,5,-1):\n",
        "  print(i)"
      ],
      "metadata": {
        "colab": {
          "base_uri": "https://localhost:8080/"
        },
        "id": "d4P2dV3HwchI",
        "outputId": "8e06b393-4eec-4ce2-b715-f7ecf1eed098"
      },
      "execution_count": 70,
      "outputs": [
        {
          "output_type": "stream",
          "name": "stdout",
          "text": [
            "10\n",
            "9\n",
            "8\n",
            "7\n",
            "6\n"
          ]
        }
      ]
    },
    {
      "cell_type": "markdown",
      "source": [
        "for(int i=0; i < 21; i+=2)"
      ],
      "metadata": {
        "id": "J_vrS51Aw8LU"
      }
    },
    {
      "cell_type": "code",
      "source": [
        "for i in range (0,21,2):\n",
        "  print(i)"
      ],
      "metadata": {
        "colab": {
          "base_uri": "https://localhost:8080/"
        },
        "id": "IbMQ8hpLw5nc",
        "outputId": "d81cfe0c-3981-4aae-bfab-a54406190dfc"
      },
      "execution_count": 74,
      "outputs": [
        {
          "output_type": "stream",
          "name": "stdout",
          "text": [
            "0\n",
            "2\n",
            "4\n",
            "6\n",
            "8\n",
            "10\n",
            "12\n",
            "14\n",
            "16\n",
            "18\n",
            "20\n"
          ]
        }
      ]
    },
    {
      "cell_type": "code",
      "source": [
        "print('hello', end='')\n",
        "print('world')\n"
      ],
      "metadata": {
        "colab": {
          "base_uri": "https://localhost:8080/"
        },
        "id": "a5JorYACv4cS",
        "outputId": "070ba836-fd2f-455e-c7bb-60befdefac0f"
      },
      "execution_count": 77,
      "outputs": [
        {
          "output_type": "stream",
          "name": "stdout",
          "text": [
            "helloworld\n"
          ]
        }
      ]
    },
    {
      "cell_type": "markdown",
      "source": [
        "x=4\n",
        "*\n",
        "**\n",
        "***\n",
        "****"
      ],
      "metadata": {
        "id": "c9szK8PQxwwJ"
      }
    },
    {
      "cell_type": "code",
      "source": [
        "n=int(input())\n",
        "for i in range(1,n+1):\n",
        "  for j in range(i):\n",
        "    print('*',end='')\n",
        "  print()\n",
        "\n"
      ],
      "metadata": {
        "colab": {
          "base_uri": "https://localhost:8080/"
        },
        "id": "YMHLCId1x39q",
        "outputId": "6056e19b-47a9-4444-d98c-bfe7212ab39c"
      },
      "execution_count": 82,
      "outputs": [
        {
          "output_type": "stream",
          "name": "stdout",
          "text": [
            "5\n",
            "*\n",
            "**\n",
            "***\n",
            "****\n",
            "*****\n"
          ]
        }
      ]
    },
    {
      "cell_type": "code",
      "source": [
        "n=int(input())\n",
        "for i in range(1,n+1):\n",
        "  for j in range(i):\n",
        "    print('* ',end='')\n",
        "  print()"
      ],
      "metadata": {
        "colab": {
          "base_uri": "https://localhost:8080/"
        },
        "id": "l0djp1nRzFzH",
        "outputId": "47064413-5299-45fa-dc61-7fd066c1f8df"
      },
      "execution_count": 86,
      "outputs": [
        {
          "output_type": "stream",
          "name": "stdout",
          "text": [
            "5\n",
            "* \n",
            "* * \n",
            "* * * \n",
            "* * * * \n",
            "* * * * * \n"
          ]
        }
      ]
    },
    {
      "cell_type": "markdown",
      "source": [
        "List\n"
      ],
      "metadata": {
        "id": "nG5svwVm0d2M"
      }
    },
    {
      "cell_type": "code",
      "source": [
        "list1=[5,7,9,10,-10]\n",
        "list1.append(105)\n",
        "print(list1)\n",
        "\n",
        "for i in range (3):\n",
        " list1.append(int(input()))\n",
        "print(list1)\n",
        "list1.sort()\n",
        "print(list1)"
      ],
      "metadata": {
        "colab": {
          "base_uri": "https://localhost:8080/"
        },
        "id": "hM0syfU00fs2",
        "outputId": "9475114e-af36-4299-bd06-2ed80ec81232"
      },
      "execution_count": 89,
      "outputs": [
        {
          "output_type": "stream",
          "name": "stdout",
          "text": [
            "[5, 7, 9, 10, -10, 105]\n",
            "22\n",
            "33\n",
            "44\n",
            "[5, 7, 9, 10, -10, 105, 22, 33, 44]\n",
            "[-10, 5, 7, 9, 10, 22, 33, 44, 105]\n"
          ]
        }
      ]
    }
  ]
}